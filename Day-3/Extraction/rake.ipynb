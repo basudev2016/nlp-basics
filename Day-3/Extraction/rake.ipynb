{
 "cells": [
  {
   "cell_type": "markdown",
   "id": "9d681d95",
   "metadata": {},
   "source": [
    "pip install rake-nltk\n"
   ]
  },
  {
   "cell_type": "code",
   "execution_count": 7,
   "id": "cd057b09",
   "metadata": {},
   "outputs": [
    {
     "name": "stdout",
     "output_type": "stream",
     "text": [
      "\n",
      "Top Keyphrases Extracted:\n",
      "\n",
      "16.00 → applications include machine translation\n",
      "8.00 → natural language processing\n",
      "4.00 → sentiment analysis\n",
      "4.00 → fascinating field\n",
      "2.00 → language\n",
      "1.00 → nlp\n",
      "1.00 → interaction\n",
      "1.00 → humans\n",
      "1.00 → focuses\n",
      "1.00 → computers\n",
      "1.00 → chatbots\n",
      "1.00 → ai\n"
     ]
    }
   ],
   "source": [
    "import nltk\n",
    "nltk.data.path.append(r'C:\\Users\\Admin\\AppData\\Roaming\\nltk_data')\n",
    "\n",
    "from rake_nltk import Rake\n",
    "\n",
    "# Example text\n",
    "text = \"\"\"\n",
    "Natural Language Processing (NLP) is a fascinating field of AI.\n",
    "It focuses on the interaction between computers and humans through language.\n",
    "Applications include machine translation, sentiment analysis, and chatbots.\n",
    "\"\"\"\n",
    "\n",
    "# Step 1: Manual sentence split\n",
    "sentences = text.split('\\n')  # simple split by newlines\n",
    "\n",
    "# Step 2: Initialize RAKE\n",
    "rake = Rake()\n",
    "\n",
    "# Step 3: Extract keywords from sentences manually\n",
    "rake.extract_keywords_from_sentences(sentences)\n",
    "\n",
    "# Step 4: Get ranked phrases\n",
    "ranked_phrases = rake.get_ranked_phrases_with_scores()\n",
    "\n",
    "# Step 5: Display top keyphrases\n",
    "print(\"\\nTop Keyphrases Extracted:\\n\")\n",
    "for score, phrase in ranked_phrases:\n",
    "    print(f\"{score:.2f} → {phrase}\")\n"
   ]
  }
 ],
 "metadata": {
  "kernelspec": {
   "display_name": "nlp-abinitio",
   "language": "python",
   "name": "python3"
  },
  "language_info": {
   "codemirror_mode": {
    "name": "ipython",
    "version": 3
   },
   "file_extension": ".py",
   "mimetype": "text/x-python",
   "name": "python",
   "nbconvert_exporter": "python",
   "pygments_lexer": "ipython3",
   "version": "3.12.8"
  }
 },
 "nbformat": 4,
 "nbformat_minor": 5
}
