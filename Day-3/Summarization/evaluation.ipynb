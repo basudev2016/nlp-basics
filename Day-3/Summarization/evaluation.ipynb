{
 "cells": [
  {
   "cell_type": "markdown",
   "id": "abb80cf5",
   "metadata": {},
   "source": [
    "pip install rouge-score\n",
    "pip install evaluate"
   ]
  },
  {
   "cell_type": "code",
   "execution_count": 4,
   "id": "f0fa27e6",
   "metadata": {},
   "outputs": [
    {
     "name": "stdout",
     "output_type": "stream",
     "text": [
      "\n",
      "🔵 ROUGE Scores for Frequency-Based Summary:\n",
      "ROUGE1: 0.6624\n",
      "ROUGE2: 0.6323\n",
      "ROUGEL: 0.5096\n",
      "ROUGELSUM: 0.6624\n",
      "\n",
      "🔵 ROUGE Scores for TextRank-Based Summary:\n",
      "ROUGE1: 0.5417\n",
      "ROUGE2: 0.5070\n",
      "ROUGEL: 0.2778\n",
      "ROUGELSUM: 0.5417\n"
     ]
    }
   ],
   "source": [
    "# --------------------------------------------\n",
    "# ROUGE Evaluation for Summarization Comparison\n",
    "# --------------------------------------------\n",
    "\n",
    "import evaluate\n",
    "\n",
    "# Step 2: Load ROUGE metric\n",
    "rouge = evaluate.load(\"rouge\")\n",
    "\n",
    "# Step 3: Define the texts\n",
    "\n",
    "# Original Text (used as \"Reference\")\n",
    "reference = \"\"\"Artificial Intelligence (AI) is revolutionizing industries across the globe. \n",
    "Healthcare has benefited from AI-powered diagnosis tools, robotic surgeries, and patient monitoring systems.\n",
    "Financial institutions utilize AI for fraud detection, algorithmic trading, and customer service chatbots. \n",
    "The transportation sector is undergoing changes with autonomous vehicles and intelligent traffic management. \n",
    "Despite its advantages, AI also presents ethical dilemmas like data privacy issues, algorithmic bias, and job automation concerns.\n",
    "Research organizations and governments are working together to create guidelines for the responsible development of AI technologies.\n",
    "Future innovations are expected to make AI an even more integral part of daily life, impacting education, entertainment, and personalized services.\"\"\"\n",
    "\n",
    "# Frequency-Based Summary\n",
    "summary_freq = \"\"\"Despite its advantages, AI also presents ethical dilemmas like data privacy issues, algorithmic bias, and job automation concerns. \n",
    "Financial institutions utilize AI for fraud detection, algorithmic trading, and customer service chatbots. \n",
    "Future innovations are expected to make AI an even more integral part of daily life, impacting education, entertainment, and personalized services.\"\"\"\n",
    "\n",
    "# TextRank-Based Summary\n",
    "summary_textrank = \"\"\"Research organizations and governments are working together to create guidelines for the responsible development of AI technologies. \n",
    "Financial institutions utilize AI for fraud detection, algorithmic trading, and customer service chatbots. \n",
    "Artificial Intelligence (AI) is revolutionizing industries across the globe.\"\"\"\n",
    "\n",
    "# Step 4: Calculate ROUGE scores\n",
    "\n",
    "# Evaluate Frequency-Based\n",
    "results_freq = rouge.compute(predictions=[summary_freq], references=[reference], use_stemmer=True)\n",
    "\n",
    "# Evaluate TextRank-Based\n",
    "results_textrank = rouge.compute(predictions=[summary_textrank], references=[reference], use_stemmer=True)\n",
    "\n",
    "# Step 5: Print Results\n",
    "print(\"\\n🔵 ROUGE Scores for Frequency-Based Summary:\")\n",
    "for metric, score in results_freq.items():\n",
    "    print(f\"{metric.upper()}: {score:.4f}\")\n",
    "\n",
    "print(\"\\n🔵 ROUGE Scores for TextRank-Based Summary:\")\n",
    "for metric, score in results_textrank.items():\n",
    "    print(f\"{metric.upper()}: {score:.4f}\")\n"
   ]
  }
 ],
 "metadata": {
  "kernelspec": {
   "display_name": "nlp-abinitio",
   "language": "python",
   "name": "python3"
  },
  "language_info": {
   "codemirror_mode": {
    "name": "ipython",
    "version": 3
   },
   "file_extension": ".py",
   "mimetype": "text/x-python",
   "name": "python",
   "nbconvert_exporter": "python",
   "pygments_lexer": "ipython3",
   "version": "3.12.8"
  }
 },
 "nbformat": 4,
 "nbformat_minor": 5
}
