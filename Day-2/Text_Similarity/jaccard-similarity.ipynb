{
 "cells": [
  {
   "cell_type": "code",
   "execution_count": 1,
   "id": "2021c3f8",
   "metadata": {},
   "outputs": [],
   "source": [
    "def jaccard_similarity(list1, list2):\n",
    "    set1 = set(list1)\n",
    "    set2 = set(list2)\n",
    "    intersection = set1.intersection(set2)\n",
    "    union = set1.union(set2)\n",
    "    return len(intersection) / len(union)\n"
   ]
  },
  {
   "cell_type": "markdown",
   "id": "429ffdc0",
   "metadata": {},
   "source": [
    " Define Example Sentences"
   ]
  },
  {
   "cell_type": "code",
   "execution_count": 2,
   "id": "ddb70d97",
   "metadata": {},
   "outputs": [
    {
     "name": "stdout",
     "output_type": "stream",
     "text": [
      "Jaccard Similarity: 0.43\n"
     ]
    }
   ],
   "source": [
    "# Example sentences\n",
    "sentence1 = \"the cat sat on the mat\"\n",
    "sentence2 = \"the cat lay on the rug\"\n",
    "\n",
    "# Tokenize into words\n",
    "tokens1 = sentence1.lower().split()\n",
    "tokens2 = sentence2.lower().split()\n",
    "\n",
    "# Calculate Jaccard Similarity\n",
    "similarity = jaccard_similarity(tokens1, tokens2)\n",
    "print(f\"Jaccard Similarity: {similarity:.2f}\")\n"
   ]
  }
 ],
 "metadata": {
  "kernelspec": {
   "display_name": "nlp-abinitio",
   "language": "python",
   "name": "python3"
  },
  "language_info": {
   "codemirror_mode": {
    "name": "ipython",
    "version": 3
   },
   "file_extension": ".py",
   "mimetype": "text/x-python",
   "name": "python",
   "nbconvert_exporter": "python",
   "pygments_lexer": "ipython3",
   "version": "3.12.8"
  }
 },
 "nbformat": 4,
 "nbformat_minor": 5
}
