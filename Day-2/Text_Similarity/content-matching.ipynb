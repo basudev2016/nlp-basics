{
 "cells": [
  {
   "cell_type": "code",
   "execution_count": 1,
   "id": "b393e4e7",
   "metadata": {},
   "outputs": [
    {
     "name": "stdout",
     "output_type": "stream",
     "text": [
      "\n",
      "Ranking documents based on query match:\n",
      "\n",
      "                                            Document  Similarity Score\n",
      "0                     The sky is blue and beautiful.          0.525751\n",
      "1                     Love this blue and bright sky!          0.442080\n",
      "6  The sky is very blue and the sky is very beaut...          0.388444\n",
      "5   The brown fox is quick and the blue dog is lazy!          0.133401\n",
      "2       The quick brown fox jumps over the lazy dog.          0.000000\n",
      "4        I love green eggs, ham, sausages and bacon!          0.000000\n",
      "3  A king's breakfast has sausages, ham, bacon, e...          0.000000\n",
      "\n",
      "Best matching document:\n",
      "- The sky is blue and beautiful.\n",
      "Similarity Score: 0.53\n"
     ]
    }
   ],
   "source": [
    "from sklearn.feature_extraction.text import TfidfVectorizer\n",
    "from sklearn.metrics.pairwise import cosine_similarity\n",
    "import pandas as pd\n",
    "\n",
    "# Example documents\n",
    "documents = [\n",
    "    \"The sky is blue and beautiful.\",\n",
    "    \"Love this blue and bright sky!\",\n",
    "    \"The quick brown fox jumps over the lazy dog.\",\n",
    "    \"A king's breakfast has sausages, ham, bacon, eggs, toast and beans.\",\n",
    "    \"I love green eggs, ham, sausages and bacon!\",\n",
    "    \"The brown fox is quick and the blue dog is lazy!\",\n",
    "    \"The sky is very blue and the sky is very beautiful today.\"\n",
    "]\n",
    "\n",
    "# Example user query\n",
    "query = \"blue sky\"\n",
    "\n",
    "# Combine query + documents\n",
    "all_texts = [query] + documents\n",
    "\n",
    "# TF-IDF Vectorization\n",
    "vectorizer = TfidfVectorizer()\n",
    "tfidf_matrix = vectorizer.fit_transform(all_texts)\n",
    "\n",
    "# Compute Cosine Similarity between query and all documents\n",
    "cosine_sim = cosine_similarity(tfidf_matrix[0:1], tfidf_matrix[1:])  # Only compare query vs docs\n",
    "\n",
    "# Flatten results\n",
    "cosine_sim = cosine_sim.flatten()\n",
    "\n",
    "# Prepare dataframe for easier visualization\n",
    "df_similarity = pd.DataFrame({\n",
    "    'Document': documents,\n",
    "    'Similarity Score': cosine_sim\n",
    "}).sort_values(by='Similarity Score', ascending=False)\n",
    "\n",
    "print(\"\\nRanking documents based on query match:\\n\")\n",
    "print(df_similarity)\n",
    "\n",
    "# Top match\n",
    "best_match_idx = cosine_sim.argmax()\n",
    "print(f\"\\nBest matching document:\\n- {documents[best_match_idx]}\\nSimilarity Score: {cosine_sim[best_match_idx]:.2f}\")\n"
   ]
  }
 ],
 "metadata": {
  "kernelspec": {
   "display_name": "nlp-abinitio",
   "language": "python",
   "name": "python3"
  },
  "language_info": {
   "codemirror_mode": {
    "name": "ipython",
    "version": 3
   },
   "file_extension": ".py",
   "mimetype": "text/x-python",
   "name": "python",
   "nbconvert_exporter": "python",
   "pygments_lexer": "ipython3",
   "version": "3.12.8"
  }
 },
 "nbformat": 4,
 "nbformat_minor": 5
}
