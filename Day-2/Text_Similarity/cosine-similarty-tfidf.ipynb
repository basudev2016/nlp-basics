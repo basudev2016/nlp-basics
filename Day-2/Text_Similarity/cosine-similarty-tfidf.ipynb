{
 "cells": [
  {
   "cell_type": "code",
   "execution_count": 1,
   "id": "5e12ea7e",
   "metadata": {},
   "outputs": [],
   "source": [
    "from sklearn.feature_extraction.text import TfidfVectorizer\n",
    "from sklearn.metrics.pairwise import cosine_similarity\n"
   ]
  },
  {
   "cell_type": "markdown",
   "id": "2eedc0b6",
   "metadata": {},
   "source": [
    "Define Some Example Texts"
   ]
  },
  {
   "cell_type": "code",
   "execution_count": 2,
   "id": "34acbac4",
   "metadata": {},
   "outputs": [],
   "source": [
    "# Example text corpus\n",
    "texts = [\n",
    "    \"The sky is blue.\",\n",
    "    \"The sky was blue yesterday.\",\n",
    "    \"The sun is bright today.\",\n",
    "    \"We can see the shining sun.\"\n",
    "]\n"
   ]
  },
  {
   "cell_type": "markdown",
   "id": "da9e77ee",
   "metadata": {},
   "source": [
    " Apply TF-IDF Vectorization"
   ]
  },
  {
   "cell_type": "code",
   "execution_count": 3,
   "id": "831e02d8",
   "metadata": {},
   "outputs": [
    {
     "name": "stdout",
     "output_type": "stream",
     "text": [
      "\n",
      "TF-IDF Matrix Shape: (4, 13)\n"
     ]
    }
   ],
   "source": [
    "# Initialize TF-IDF Vectorizer\n",
    "vectorizer = TfidfVectorizer()\n",
    "\n",
    "# Fit and transform\n",
    "tfidf_matrix = vectorizer.fit_transform(texts)\n",
    "\n",
    "print(\"\\nTF-IDF Matrix Shape:\", tfidf_matrix.shape)\n"
   ]
  },
  {
   "cell_type": "markdown",
   "id": "037f3b99",
   "metadata": {},
   "source": [
    "Compute Cosine Similarity"
   ]
  },
  {
   "cell_type": "code",
   "execution_count": 4,
   "id": "a7a2c97b",
   "metadata": {},
   "outputs": [
    {
     "data": {
      "text/html": [
       "<div>\n",
       "<style scoped>\n",
       "    .dataframe tbody tr th:only-of-type {\n",
       "        vertical-align: middle;\n",
       "    }\n",
       "\n",
       "    .dataframe tbody tr th {\n",
       "        vertical-align: top;\n",
       "    }\n",
       "\n",
       "    .dataframe thead th {\n",
       "        text-align: right;\n",
       "    }\n",
       "</style>\n",
       "<table border=\"1\" class=\"dataframe\">\n",
       "  <thead>\n",
       "    <tr style=\"text-align: right;\">\n",
       "      <th></th>\n",
       "      <th>The sky is blue.</th>\n",
       "      <th>The sky was blue yesterday.</th>\n",
       "      <th>The sun is bright today.</th>\n",
       "      <th>We can see the shining sun.</th>\n",
       "    </tr>\n",
       "  </thead>\n",
       "  <tbody>\n",
       "    <tr>\n",
       "      <th>The sky is blue.</th>\n",
       "      <td>1.000000</td>\n",
       "      <td>0.552906</td>\n",
       "      <td>0.326128</td>\n",
       "      <td>0.084205</td>\n",
       "    </tr>\n",
       "    <tr>\n",
       "      <th>The sky was blue yesterday.</th>\n",
       "      <td>0.552906</td>\n",
       "      <td>1.000000</td>\n",
       "      <td>0.077462</td>\n",
       "      <td>0.065653</td>\n",
       "    </tr>\n",
       "    <tr>\n",
       "      <th>The sun is bright today.</th>\n",
       "      <td>0.326128</td>\n",
       "      <td>0.077462</td>\n",
       "      <td>1.000000</td>\n",
       "      <td>0.215513</td>\n",
       "    </tr>\n",
       "    <tr>\n",
       "      <th>We can see the shining sun.</th>\n",
       "      <td>0.084205</td>\n",
       "      <td>0.065653</td>\n",
       "      <td>0.215513</td>\n",
       "      <td>1.000000</td>\n",
       "    </tr>\n",
       "  </tbody>\n",
       "</table>\n",
       "</div>"
      ],
      "text/plain": [
       "                             The sky is blue.  The sky was blue yesterday.  \\\n",
       "The sky is blue.                     1.000000                     0.552906   \n",
       "The sky was blue yesterday.          0.552906                     1.000000   \n",
       "The sun is bright today.             0.326128                     0.077462   \n",
       "We can see the shining sun.          0.084205                     0.065653   \n",
       "\n",
       "                             The sun is bright today.  \\\n",
       "The sky is blue.                             0.326128   \n",
       "The sky was blue yesterday.                  0.077462   \n",
       "The sun is bright today.                     1.000000   \n",
       "We can see the shining sun.                  0.215513   \n",
       "\n",
       "                             We can see the shining sun.  \n",
       "The sky is blue.                                0.084205  \n",
       "The sky was blue yesterday.                     0.065653  \n",
       "The sun is bright today.                        0.215513  \n",
       "We can see the shining sun.                     1.000000  "
      ]
     },
     "execution_count": 4,
     "metadata": {},
     "output_type": "execute_result"
    }
   ],
   "source": [
    "# Compute cosine similarity matrix\n",
    "cosine_sim = cosine_similarity(tfidf_matrix)\n",
    "\n",
    "# Print similarity matrix\n",
    "import pandas as pd\n",
    "pd.DataFrame(cosine_sim, index=texts, columns=texts)\n"
   ]
  },
  {
   "cell_type": "markdown",
   "id": "0492f9b4",
   "metadata": {},
   "source": [
    "Interpretation:\n",
    "Text 1 and Text 2 are very similar (>0.9) — both talk about sky and blue.\n",
    "\n",
    "Text 3 and Text 4 are similar (>0.8) — both about sun.\n",
    "\n",
    "Cross pairs are less similar.\n",
    "\n",
    "Cosine similarity finds semantic closeness between texts!"
   ]
  }
 ],
 "metadata": {
  "kernelspec": {
   "display_name": "nlp-abinitio",
   "language": "python",
   "name": "python3"
  },
  "language_info": {
   "codemirror_mode": {
    "name": "ipython",
    "version": 3
   },
   "file_extension": ".py",
   "mimetype": "text/x-python",
   "name": "python",
   "nbconvert_exporter": "python",
   "pygments_lexer": "ipython3",
   "version": "3.12.8"
  }
 },
 "nbformat": 4,
 "nbformat_minor": 5
}
