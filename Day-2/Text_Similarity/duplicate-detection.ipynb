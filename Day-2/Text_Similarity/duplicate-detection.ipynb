{
 "cells": [
  {
   "cell_type": "markdown",
   "id": "6db6381a",
   "metadata": {},
   "source": [
    "Exact Duplicate Detection (Simple)"
   ]
  },
  {
   "cell_type": "code",
   "execution_count": 1,
   "id": "1b6cf2b6",
   "metadata": {},
   "outputs": [
    {
     "name": "stdout",
     "output_type": "stream",
     "text": [
      "Duplicate detected (Exact match).\n"
     ]
    }
   ],
   "source": [
    "# Two texts\n",
    "text1 = \"The sky is blue.\"\n",
    "text2 = \"The sky is blue.\"\n",
    "\n",
    "# Exact Match\n",
    "if text1.strip().lower() == text2.strip().lower():\n",
    "    print(\"Duplicate detected (Exact match).\")\n",
    "else:\n",
    "    print(\"Not duplicate (Exact match).\")\n"
   ]
  },
  {
   "cell_type": "markdown",
   "id": "b53c9df1",
   "metadata": {},
   "source": [
    "Duplicate Detection using Cosine Similarity + TF-IDF"
   ]
  },
  {
   "cell_type": "code",
   "execution_count": 3,
   "id": "cb7cd89e",
   "metadata": {},
   "outputs": [
    {
     "name": "stdout",
     "output_type": "stream",
     "text": [
      "\n",
      "Cosine Similarity Matrix:\n",
      "          Text 1    Text 2    Text 3\n",
      "Text 1  1.000000  0.764197  0.081227\n",
      "Text 2  0.764197  1.000000  0.081227\n",
      "Text 3  0.081227  0.081227  1.000000\n",
      "\n",
      "Potential Duplicate Pairs (Cosine Similarity >= 0.7):\n",
      "\n",
      "- Text 1: The sky is blue and clear today.\n",
      "- Text 2: Today the sky looks blue and clear.\n",
      "Similarity: 0.76\n"
     ]
    }
   ],
   "source": [
    "from sklearn.feature_extraction.text import TfidfVectorizer\n",
    "from sklearn.metrics.pairwise import cosine_similarity\n",
    "import pandas as pd\n",
    "\n",
    "# Example texts\n",
    "texts = [\n",
    "    \"The sky is blue and clear today.\",\n",
    "    \"Today the sky looks blue and clear.\",\n",
    "    \"It might rain later today.\"\n",
    "]\n",
    "\n",
    "# TF-IDF Vectorization\n",
    "vectorizer = TfidfVectorizer()\n",
    "tfidf_matrix = vectorizer.fit_transform(texts)\n",
    "\n",
    "# Calculate Cosine Similarity\n",
    "cosine_sim = cosine_similarity(tfidf_matrix)\n",
    "\n",
    "# Optional: View the Cosine Similarity matrix\n",
    "print(\"\\nCosine Similarity Matrix:\")\n",
    "cosine_sim_df = pd.DataFrame(cosine_sim, index=[f\"Text {i}\" for i in range(1, len(texts)+1)], columns=[f\"Text {i}\" for i in range(1, len(texts)+1)])\n",
    "print(cosine_sim_df)\n",
    "\n",
    "# Threshold for considering duplicates\n",
    "threshold = 0.7  \n",
    "\n",
    "print(\"\\nPotential Duplicate Pairs (Cosine Similarity >= 0.7):\")\n",
    "found = False\n",
    "for i in range(len(texts)):\n",
    "    for j in range(i+1, len(texts)):\n",
    "        if cosine_sim[i, j] >= threshold:\n",
    "            print(f\"\\n- Text {i+1}: {texts[i]}\")\n",
    "            print(f\"- Text {j+1}: {texts[j]}\")\n",
    "            print(f\"Similarity: {cosine_sim[i,j]:.2f}\")\n",
    "            found = True\n",
    "\n",
    "if not found:\n",
    "    print(\"No duplicates found above the threshold.\")\n"
   ]
  },
  {
   "cell_type": "markdown",
   "id": "c1da221f",
   "metadata": {},
   "source": [
    "Duplicate Detection using Jaccard Similarity"
   ]
  },
  {
   "cell_type": "code",
   "execution_count": 4,
   "id": "e4c8e4e8",
   "metadata": {},
   "outputs": [
    {
     "name": "stdout",
     "output_type": "stream",
     "text": [
      "Jaccard Similarity: 0.75\n",
      "Likely duplicate (Jaccard).\n"
     ]
    }
   ],
   "source": [
    "def jaccard_similarity(list1, list2):\n",
    "    set1 = set(list1)\n",
    "    set2 = set(list2)\n",
    "    return len(set1.intersection(set2)) / len(set1.union(set2))\n",
    "\n",
    "# Tokenize\n",
    "tokens1 = \"The sky is blue and clear today\".lower().split()\n",
    "tokens2 = \"Today the sky looks blue and clear\".lower().split()\n",
    "\n",
    "# Jaccard\n",
    "similarity = jaccard_similarity(tokens1, tokens2)\n",
    "print(f\"Jaccard Similarity: {similarity:.2f}\")\n",
    "\n",
    "# Set threshold\n",
    "if similarity > 0.5:\n",
    "    print(\"Likely duplicate (Jaccard).\")\n",
    "else:\n",
    "    print(\"Not duplicate (Jaccard).\")\n"
   ]
  }
 ],
 "metadata": {
  "kernelspec": {
   "display_name": "nlp-abinitio",
   "language": "python",
   "name": "python3"
  },
  "language_info": {
   "codemirror_mode": {
    "name": "ipython",
    "version": 3
   },
   "file_extension": ".py",
   "mimetype": "text/x-python",
   "name": "python",
   "nbconvert_exporter": "python",
   "pygments_lexer": "ipython3",
   "version": "3.12.8"
  }
 },
 "nbformat": 4,
 "nbformat_minor": 5
}
