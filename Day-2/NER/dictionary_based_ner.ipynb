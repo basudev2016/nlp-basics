{
 "cells": [
  {
   "cell_type": "code",
   "execution_count": 1,
   "id": "faf05ba8",
   "metadata": {},
   "outputs": [],
   "source": [
    "# Example text\n",
    "text2 = \"Apple and Microsoft are leading tech giants. Google is also strong.\""
   ]
  },
  {
   "cell_type": "code",
   "execution_count": 2,
   "id": "ad403608",
   "metadata": {},
   "outputs": [],
   "source": [
    "# Dictionary of known companies\n",
    "companies = [\"Apple\", \"Microsoft\", \"Google\", \"Amazon\", \"Facebook\"]"
   ]
  },
  {
   "cell_type": "code",
   "execution_count": 3,
   "id": "a0a4537a",
   "metadata": {},
   "outputs": [
    {
     "name": "stdout",
     "output_type": "stream",
     "text": [
      "Companies found: ['Apple', 'Microsoft', 'Google']\n"
     ]
    }
   ],
   "source": [
    "# Find companies in text\n",
    "found_companies = []\n",
    "for company in companies:\n",
    "    if company.lower() in text2.lower():\n",
    "        found_companies.append(company)\n",
    "\n",
    "print(\"Companies found:\", found_companies)"
   ]
  }
 ],
 "metadata": {
  "kernelspec": {
   "display_name": "nlp-abinitio",
   "language": "python",
   "name": "python3"
  },
  "language_info": {
   "codemirror_mode": {
    "name": "ipython",
    "version": 3
   },
   "file_extension": ".py",
   "mimetype": "text/x-python",
   "name": "python",
   "nbconvert_exporter": "python",
   "pygments_lexer": "ipython3",
   "version": "3.12.8"
  }
 },
 "nbformat": 4,
 "nbformat_minor": 5
}
