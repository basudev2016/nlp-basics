{
 "cells": [
  {
   "cell_type": "markdown",
   "id": "96728762",
   "metadata": {},
   "source": [
    "SpaCy Pretrained Pipeline NER"
   ]
  },
  {
   "cell_type": "markdown",
   "id": "a0c298d0",
   "metadata": {},
   "source": [
    "pip install spacy\n",
    "python -m spacy download en_core_web_sm\n",
    "pip install https://github.com/explosion/spacy-models/releases/download/en_core_web_sm-3.7.1/en_core_web_sm-3.7.1-py3-none-any.whl\n",
    "\n"
   ]
  },
  {
   "cell_type": "code",
   "execution_count": 2,
   "id": "8bb85651",
   "metadata": {},
   "outputs": [
    {
     "name": "stdout",
     "output_type": "stream",
     "text": [
      "John Doe → PERSON\n",
      "Microsoft → ORG\n",
      "New York → GPE\n"
     ]
    }
   ],
   "source": [
    "import spacy\n",
    "\n",
    "# Load SpaCy small English model\n",
    "nlp = spacy.load('en_core_web_sm')\n",
    "\n",
    "# Example text\n",
    "text = \"John Doe works at Microsoft and lives in New York.\"\n",
    "\n",
    "# Process the text\n",
    "doc = nlp(text)\n",
    "\n",
    "# Extract Entities\n",
    "for ent in doc.ents:\n",
    "    print(ent.text, \"→\", ent.label_)\n"
   ]
  },
  {
   "cell_type": "markdown",
   "id": "428359e2",
   "metadata": {},
   "source": [
    "Custom EntityRuler Example"
   ]
  },
  {
   "cell_type": "code",
   "execution_count": null,
   "id": "5e237639",
   "metadata": {},
   "outputs": [
    {
     "name": "stdout",
     "output_type": "stream",
     "text": [
      "iPhone 16 → PRODUCT\n",
      "Geeta → PERSON\n",
      "Galaxy S23 → PRODUCT\n",
      "Madhu → GPE\n",
      "Pixel 8 → PRODUCT\n"
     ]
    }
   ],
   "source": [
    "import spacy\n",
    "from spacy.pipeline import EntityRuler\n",
    "\n",
    "# Load model\n",
    "nlp = spacy.load('en_core_web_sm')\n",
    "\n",
    "# Create EntityRuler\n",
    "ruler = nlp.add_pipe(\"entity_ruler\", before=\"ner\", config={\"overwrite_ents\": True})\n",
    "\n",
    "# Define patterns\n",
    "patterns = [\n",
    "    {\"label\": \"PRODUCT\", \"pattern\": \"iPhone 16\"},\n",
    "    {\"label\": \"PRODUCT\", \"pattern\": \"Pixel 8\"},\n",
    "    {\"label\": \"PRODUCT\", \"pattern\": \"Galaxy S23\"}\n",
    "]\n",
    "\n",
    "# Add patterns\n",
    "ruler.add_patterns(patterns)\n",
    "\n",
    "# Test Text (fixed spacing)\n",
    "text = \"I recently bought an iPhone 16 and my friend Geeta uses a Galaxy S23. Madhu uses a Pixel 8.\"\n",
    "\n",
    "# Process\n",
    "doc = nlp(text)\n",
    "\n",
    "# Print entities\n",
    "for ent in doc.ents:\n",
    "    print(ent.text, \"→\", ent.label_)\n"
   ]
  },
  {
   "cell_type": "markdown",
   "id": "dde19931",
   "metadata": {},
   "source": [
    " Why is Madhu → GPE (Geo-Political Entity) wrong?\n",
    "SpaCy's pretrained model sometimes misclassifies PERSON names as GPE (like city, country names).\n",
    "\n",
    "Madhu is a common Indian person name,\n",
    "but SpaCy’s model thinks it could be a city/town (because English model was trained more on Western data)."
   ]
  },
  {
   "cell_type": "code",
   "execution_count": 5,
   "id": "ec245193",
   "metadata": {},
   "outputs": [
    {
     "name": "stdout",
     "output_type": "stream",
     "text": [
      "iPhone 16 → PRODUCT\n",
      "Geeta → PERSON\n",
      "Galaxy S23 → PRODUCT\n",
      "Madhu → PERSON\n",
      "Pixel 8 → PRODUCT\n"
     ]
    }
   ],
   "source": [
    "patterns = [\n",
    "    {\"label\": \"PRODUCT\", \"pattern\": \"iPhone 16\"},\n",
    "    {\"label\": \"PRODUCT\", \"pattern\": \"Pixel 8\"},\n",
    "    {\"label\": \"PRODUCT\", \"pattern\": \"Galaxy S23\"},\n",
    "    {\"label\": \"PERSON\", \"pattern\": \"Madhu\"}  # <- Add Madhu manually as PERSON\n",
    "]\n",
    "\n",
    "# Add patterns\n",
    "ruler.add_patterns(patterns)\n",
    "\n",
    "# Process\n",
    "doc = nlp(text)\n",
    "\n",
    "# Print entities\n",
    "for ent in doc.ents:\n",
    "    print(ent.text, \"→\", ent.label_)"
   ]
  },
  {
   "cell_type": "markdown",
   "id": "04d2b5f0",
   "metadata": {},
   "source": []
  }
 ],
 "metadata": {
  "kernelspec": {
   "display_name": "nlp-abinitio",
   "language": "python",
   "name": "python3"
  },
  "language_info": {
   "codemirror_mode": {
    "name": "ipython",
    "version": 3
   },
   "file_extension": ".py",
   "mimetype": "text/x-python",
   "name": "python",
   "nbconvert_exporter": "python",
   "pygments_lexer": "ipython3",
   "version": "3.12.8"
  }
 },
 "nbformat": 4,
 "nbformat_minor": 5
}
