{
 "cells": [
  {
   "cell_type": "code",
   "execution_count": 1,
   "id": "26506727",
   "metadata": {},
   "outputs": [
    {
     "name": "stdout",
     "output_type": "stream",
     "text": [
      "Apple → PROPN\n",
      "is → AUX\n",
      "looking → VERB\n",
      "at → ADP\n",
      "buying → VERB\n",
      "a → DET\n",
      "startup → NOUN\n",
      "in → ADP\n",
      "the → DET\n",
      "UK → PROPN\n",
      ". → PUNCT\n"
     ]
    }
   ],
   "source": [
    "import spacy\n",
    "\n",
    "# Load small English model\n",
    "nlp = spacy.load('en_core_web_sm')\n",
    "\n",
    "# Example text\n",
    "text = \"Apple is looking at buying a startup in the UK.\"\n",
    "\n",
    "# Process the text\n",
    "doc = nlp(text)\n",
    "\n",
    "# Print each token with POS tag\n",
    "for token in doc:\n",
    "    print(f\"{token.text} → {token.pos_}\")\n"
   ]
  }
 ],
 "metadata": {
  "kernelspec": {
   "display_name": "nlp-abinitio",
   "language": "python",
   "name": "python3"
  },
  "language_info": {
   "codemirror_mode": {
    "name": "ipython",
    "version": 3
   },
   "file_extension": ".py",
   "mimetype": "text/x-python",
   "name": "python",
   "nbconvert_exporter": "python",
   "pygments_lexer": "ipython3",
   "version": "3.12.8"
  }
 },
 "nbformat": 4,
 "nbformat_minor": 5
}
