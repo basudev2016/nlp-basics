{
 "cells": [
  {
   "cell_type": "code",
   "execution_count": 1,
   "id": "478cb1fc",
   "metadata": {},
   "outputs": [],
   "source": [
    "import re"
   ]
  },
  {
   "cell_type": "code",
   "execution_count": 2,
   "id": "fbde206b",
   "metadata": {},
   "outputs": [],
   "source": [
    "text = \"\"\"\n",
    "Contact me at basudev.panda@example.com on 25th May 2025. \n",
    "Or call me at +91-800-555-1234 anytime after 10th May 2025.\n",
    "\"\"\""
   ]
  },
  {
   "cell_type": "code",
   "execution_count": 3,
   "id": "a5e243ff",
   "metadata": {},
   "outputs": [
    {
     "name": "stdout",
     "output_type": "stream",
     "text": [
      "Emails found: ['basudev.panda@example.com']\n"
     ]
    }
   ],
   "source": [
    "# Email pattern\n",
    "email_pattern = r'\\b[\\w\\.-]+@[\\w\\.-]+\\.\\w+\\b'\n",
    "emails = re.findall(email_pattern, text)\n",
    "print(\"Emails found:\", emails)"
   ]
  },
  {
   "cell_type": "code",
   "execution_count": 4,
   "id": "53a77dcf",
   "metadata": {},
   "outputs": [
    {
     "name": "stdout",
     "output_type": "stream",
     "text": [
      "Dates found: ['25th May 2025', '10th May 2025']\n"
     ]
    }
   ],
   "source": [
    "# Date pattern\n",
    "date_pattern = r'\\b\\d{1,2}(st|nd|rd|th)?\\s+\\w+\\s+\\d{4}\\b'\n",
    "dates = re.findall(date_pattern, text)\n",
    "print(\"Dates found:\", re.findall(r'\\d{1,2}(?:st|nd|rd|th)?\\s+\\w+\\s+\\d{4}', text))"
   ]
  },
  {
   "cell_type": "code",
   "execution_count": 5,
   "id": "1444dab3",
   "metadata": {},
   "outputs": [
    {
     "name": "stdout",
     "output_type": "stream",
     "text": [
      "Phone numbers found: ['+91-800-555-1234']\n"
     ]
    }
   ],
   "source": [
    "# Phone number pattern\n",
    "phone_pattern = r'\\+\\d{1,3}-\\d{3}-\\d{3}-\\d{4}'\n",
    "phones = re.findall(phone_pattern, text)\n",
    "print(\"Phone numbers found:\", phones)"
   ]
  }
 ],
 "metadata": {
  "kernelspec": {
   "display_name": "nlp-abinitio",
   "language": "python",
   "name": "python3"
  },
  "language_info": {
   "codemirror_mode": {
    "name": "ipython",
    "version": 3
   },
   "file_extension": ".py",
   "mimetype": "text/x-python",
   "name": "python",
   "nbconvert_exporter": "python",
   "pygments_lexer": "ipython3",
   "version": "3.12.8"
  }
 },
 "nbformat": 4,
 "nbformat_minor": 5
}
